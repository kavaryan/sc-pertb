{
 "cells": [
  {
   "cell_type": "code",
   "execution_count": null,
   "id": "34656257-8c95-4b7b-85e7-146dcf5d4a76",
   "metadata": {
    "tags": []
   },
   "outputs": [],
   "source": [
    "# !wget -P tf-homer http://homer.ucsd.edu/homer/data/motifs/homer.KnownMotifs.hg38.191020.bed.gz\n",
    "# !cd tf-homer && gunzip homer.KnownMotifs.hg38.191020.bed.gz\n",
    "# !wget -P tf-homer http://homer.ucsd.edu/homer/custom.motifs"
   ]
  },
  {
   "cell_type": "code",
   "execution_count": 1,
   "id": "1d00a285-85e3-4b7e-a767-ddbae0c13e6d",
   "metadata": {
    "execution": {
     "iopub.execute_input": "2023-12-12T11:27:27.013777Z",
     "iopub.status.busy": "2023-12-12T11:27:27.013416Z",
     "iopub.status.idle": "2023-12-12T11:27:28.492777Z",
     "shell.execute_reply": "2023-12-12T11:27:28.492193Z",
     "shell.execute_reply.started": "2023-12-12T11:27:27.013752Z"
    },
    "tags": []
   },
   "outputs": [],
   "source": [
    "import os\n",
    "import pandas as pd\n",
    "import matplotlib.pyplot as plt\n",
    "\n",
    "pd.set_option('display.max_columns', None)"
   ]
  },
  {
   "cell_type": "code",
   "execution_count": null,
   "id": "7c206ba0-0684-40a0-b3f8-c1b2942a321a",
   "metadata": {
    "execution": {
     "iopub.execute_input": "2023-12-12T19:05:44.375528Z",
     "iopub.status.busy": "2023-12-12T19:05:44.375159Z",
     "iopub.status.idle": "2023-12-12T19:05:44.383525Z",
     "shell.execute_reply": "2023-12-12T19:05:44.382938Z",
     "shell.execute_reply.started": "2023-12-12T19:05:44.375503Z"
    },
    "tags": []
   },
   "outputs": [],
   "source": [
    "working_dir = '/home/jovyan/kaggle/working/'\n",
    "tf_fn = working_dir + '/tf-homer/homer.KnownMotifs.hg38.191020.bed'\n",
    "motifs_fn = working_dir + '/tf-homer/custom.motifs'\n",
    "gense_fn = working_dir + '/genome/Homo_sapiens.gene_info'\n",
    "genome_ann_fn = working_dir + '/genome/gencode.v44.annotation.gtf'\n",
    "\n",
    "data_dir = '/home/jovyan/kaggle/input/open-problems-single-cell-perturbations'\n",
    "multiome_train_fn = data_dir + '/multiome_train.parquet'\n",
    "multiome_var_fn = data_dir + '/multiome_var_meta.csv'\n",
    "multiome_obs_fn = data_dir + '/multiome_obs_meta.csv'"
   ]
  },
  {
   "cell_type": "code",
   "execution_count": 3,
   "id": "814e2780-2ee6-4ddf-9869-8b608901ea86",
   "metadata": {
    "execution": {
     "iopub.execute_input": "2023-12-12T11:27:33.732185Z",
     "iopub.status.busy": "2023-12-12T11:27:33.731824Z",
     "iopub.status.idle": "2023-12-12T11:28:26.402855Z",
     "shell.execute_reply": "2023-12-12T11:28:26.402226Z",
     "shell.execute_reply.started": "2023-12-12T11:27:33.732162Z"
    },
    "tags": []
   },
   "outputs": [],
   "source": [
    "multiome_train_df = pd.read_parquet(multiome_train_fn)"
   ]
  },
  {
   "cell_type": "code",
   "execution_count": 4,
   "id": "98f242de-18de-4157-969e-39ec612eb6db",
   "metadata": {
    "execution": {
     "iopub.execute_input": "2023-12-12T11:28:33.709216Z",
     "iopub.status.busy": "2023-12-12T11:28:33.708812Z",
     "iopub.status.idle": "2023-12-12T11:28:33.725330Z",
     "shell.execute_reply": "2023-12-12T11:28:33.724788Z",
     "shell.execute_reply.started": "2023-12-12T11:28:33.709192Z"
    },
    "tags": []
   },
   "outputs": [
    {
     "name": "stdout",
     "output_type": "stream",
     "text": [
      "(216251368, 4)\n"
     ]
    },
    {
     "data": {
      "text/html": [
       "<div>\n",
       "<style scoped>\n",
       "    .dataframe tbody tr th:only-of-type {\n",
       "        vertical-align: middle;\n",
       "    }\n",
       "\n",
       "    .dataframe tbody tr th {\n",
       "        vertical-align: top;\n",
       "    }\n",
       "\n",
       "    .dataframe thead th {\n",
       "        text-align: right;\n",
       "    }\n",
       "</style>\n",
       "<table border=\"1\" class=\"dataframe\">\n",
       "  <thead>\n",
       "    <tr style=\"text-align: right;\">\n",
       "      <th></th>\n",
       "      <th>obs_id</th>\n",
       "      <th>location</th>\n",
       "      <th>count</th>\n",
       "      <th>normalized_count</th>\n",
       "    </tr>\n",
       "  </thead>\n",
       "  <tbody>\n",
       "    <tr>\n",
       "      <th>0</th>\n",
       "      <td>000225c1151ab841</td>\n",
       "      <td>AAMP</td>\n",
       "      <td>1</td>\n",
       "      <td>6.320659</td>\n",
       "    </tr>\n",
       "    <tr>\n",
       "      <th>1</th>\n",
       "      <td>000225c1151ab841</td>\n",
       "      <td>AASS</td>\n",
       "      <td>1</td>\n",
       "      <td>6.320659</td>\n",
       "    </tr>\n",
       "    <tr>\n",
       "      <th>2</th>\n",
       "      <td>000225c1151ab841</td>\n",
       "      <td>ABCC11</td>\n",
       "      <td>1</td>\n",
       "      <td>6.320659</td>\n",
       "    </tr>\n",
       "    <tr>\n",
       "      <th>3</th>\n",
       "      <td>000225c1151ab841</td>\n",
       "      <td>ABCC2</td>\n",
       "      <td>1</td>\n",
       "      <td>6.320659</td>\n",
       "    </tr>\n",
       "    <tr>\n",
       "      <th>4</th>\n",
       "      <td>000225c1151ab841</td>\n",
       "      <td>ABR</td>\n",
       "      <td>1</td>\n",
       "      <td>6.320659</td>\n",
       "    </tr>\n",
       "  </tbody>\n",
       "</table>\n",
       "</div>"
      ],
      "text/plain": [
       "             obs_id location  count  normalized_count\n",
       "0  000225c1151ab841     AAMP      1          6.320659\n",
       "1  000225c1151ab841     AASS      1          6.320659\n",
       "2  000225c1151ab841   ABCC11      1          6.320659\n",
       "3  000225c1151ab841    ABCC2      1          6.320659\n",
       "4  000225c1151ab841      ABR      1          6.320659"
      ]
     },
     "execution_count": 4,
     "metadata": {},
     "output_type": "execute_result"
    }
   ],
   "source": [
    "print(multiome_train_df.shape)\n",
    "multiome_train_df.head(5)"
   ]
  },
  {
   "cell_type": "code",
   "execution_count": 5,
   "id": "0763bb2b-b996-434a-a9ff-3bf52c828063",
   "metadata": {
    "execution": {
     "iopub.execute_input": "2023-12-12T11:28:35.702622Z",
     "iopub.status.busy": "2023-12-12T11:28:35.702263Z",
     "iopub.status.idle": "2023-12-12T11:28:36.028400Z",
     "shell.execute_reply": "2023-12-12T11:28:36.027878Z",
     "shell.execute_reply.started": "2023-12-12T11:28:35.702599Z"
    },
    "tags": []
   },
   "outputs": [
    {
     "name": "stdout",
     "output_type": "stream",
     "text": [
      "(158205, 5)\n"
     ]
    },
    {
     "data": {
      "text/html": [
       "<div>\n",
       "<style scoped>\n",
       "    .dataframe tbody tr th:only-of-type {\n",
       "        vertical-align: middle;\n",
       "    }\n",
       "\n",
       "    .dataframe tbody tr th {\n",
       "        vertical-align: top;\n",
       "    }\n",
       "\n",
       "    .dataframe thead th {\n",
       "        text-align: right;\n",
       "    }\n",
       "</style>\n",
       "<table border=\"1\" class=\"dataframe\">\n",
       "  <thead>\n",
       "    <tr style=\"text-align: right;\">\n",
       "      <th></th>\n",
       "      <th>location</th>\n",
       "      <th>gene_id</th>\n",
       "      <th>feature_type</th>\n",
       "      <th>genome</th>\n",
       "      <th>interval</th>\n",
       "    </tr>\n",
       "  </thead>\n",
       "  <tbody>\n",
       "    <tr>\n",
       "      <th>0</th>\n",
       "      <td>A1BG</td>\n",
       "      <td>ENSG00000121410</td>\n",
       "      <td>Gene Expression</td>\n",
       "      <td>GRCh38</td>\n",
       "      <td>chr19:58353491-58353492</td>\n",
       "    </tr>\n",
       "    <tr>\n",
       "      <th>1</th>\n",
       "      <td>A1BG-AS1</td>\n",
       "      <td>ENSG00000268895</td>\n",
       "      <td>Gene Expression</td>\n",
       "      <td>GRCh38</td>\n",
       "      <td>chr19:58347750-58351970</td>\n",
       "    </tr>\n",
       "    <tr>\n",
       "      <th>2</th>\n",
       "      <td>A2M</td>\n",
       "      <td>ENSG00000175899</td>\n",
       "      <td>Gene Expression</td>\n",
       "      <td>GRCh38</td>\n",
       "      <td>chr12:9116156-9116157</td>\n",
       "    </tr>\n",
       "    <tr>\n",
       "      <th>3</th>\n",
       "      <td>A2M-AS1</td>\n",
       "      <td>ENSG00000245105</td>\n",
       "      <td>Gene Expression</td>\n",
       "      <td>GRCh38</td>\n",
       "      <td>chr12:9065162-9065177</td>\n",
       "    </tr>\n",
       "    <tr>\n",
       "      <th>4</th>\n",
       "      <td>A2ML1</td>\n",
       "      <td>ENSG00000166535</td>\n",
       "      <td>Gene Expression</td>\n",
       "      <td>GRCh38</td>\n",
       "      <td>chr12:8822620-8845004</td>\n",
       "    </tr>\n",
       "  </tbody>\n",
       "</table>\n",
       "</div>"
      ],
      "text/plain": [
       "   location          gene_id     feature_type  genome                 interval\n",
       "0      A1BG  ENSG00000121410  Gene Expression  GRCh38  chr19:58353491-58353492\n",
       "1  A1BG-AS1  ENSG00000268895  Gene Expression  GRCh38  chr19:58347750-58351970\n",
       "2       A2M  ENSG00000175899  Gene Expression  GRCh38    chr12:9116156-9116157\n",
       "3   A2M-AS1  ENSG00000245105  Gene Expression  GRCh38    chr12:9065162-9065177\n",
       "4     A2ML1  ENSG00000166535  Gene Expression  GRCh38    chr12:8822620-8845004"
      ]
     },
     "execution_count": 5,
     "metadata": {},
     "output_type": "execute_result"
    }
   ],
   "source": [
    "multiome_var_df = pd.read_csv(multiome_var_fn)\n",
    "print(multiome_var_df.shape)\n",
    "multiome_var_df.head(5)"
   ]
  },
  {
   "cell_type": "code",
   "execution_count": 6,
   "id": "76cbac13-fe73-430a-97b0-6a6cb793157a",
   "metadata": {
    "execution": {
     "iopub.execute_input": "2023-12-12T11:28:38.098596Z",
     "iopub.status.busy": "2023-12-12T11:28:38.098238Z",
     "iopub.status.idle": "2023-12-12T11:30:24.859346Z",
     "shell.execute_reply": "2023-12-12T11:30:24.858722Z",
     "shell.execute_reply.started": "2023-12-12T11:28:38.098572Z"
    },
    "tags": []
   },
   "outputs": [],
   "source": [
    "multiome_merged_df = multiome_train_df.merge(multiome_var_df[['location', 'feature_type']], on='location')"
   ]
  },
  {
   "cell_type": "code",
   "execution_count": 7,
   "id": "8c3af70d-9212-479a-8804-7f2a449d7e4d",
   "metadata": {
    "execution": {
     "iopub.execute_input": "2023-12-12T11:30:37.975684Z",
     "iopub.status.busy": "2023-12-12T11:30:37.975308Z",
     "iopub.status.idle": "2023-12-12T11:31:12.549690Z",
     "shell.execute_reply": "2023-12-12T11:31:12.549067Z",
     "shell.execute_reply.started": "2023-12-12T11:30:37.975659Z"
    },
    "tags": []
   },
   "outputs": [],
   "source": [
    "multiome_atac_df = multiome_merged_df[multiome_merged_df['feature_type'] == 'Peaks']"
   ]
  },
  {
   "cell_type": "code",
   "execution_count": 62,
   "id": "906719eb-92db-4677-b43f-912fc6a6b216",
   "metadata": {
    "execution": {
     "iopub.execute_input": "2023-12-12T13:50:52.081741Z",
     "iopub.status.busy": "2023-12-12T13:50:52.081359Z",
     "iopub.status.idle": "2023-12-12T13:50:52.090083Z",
     "shell.execute_reply": "2023-12-12T13:50:52.089584Z",
     "shell.execute_reply.started": "2023-12-12T13:50:52.081716Z"
    },
    "tags": []
   },
   "outputs": [
    {
     "name": "stdout",
     "output_type": "stream",
     "text": [
      "(173485202, 5)\n"
     ]
    },
    {
     "data": {
      "text/html": [
       "<div>\n",
       "<style scoped>\n",
       "    .dataframe tbody tr th:only-of-type {\n",
       "        vertical-align: middle;\n",
       "    }\n",
       "\n",
       "    .dataframe tbody tr th {\n",
       "        vertical-align: top;\n",
       "    }\n",
       "\n",
       "    .dataframe thead th {\n",
       "        text-align: right;\n",
       "    }\n",
       "</style>\n",
       "<table border=\"1\" class=\"dataframe\">\n",
       "  <thead>\n",
       "    <tr style=\"text-align: right;\">\n",
       "      <th></th>\n",
       "      <th>obs_id</th>\n",
       "      <th>location</th>\n",
       "      <th>count</th>\n",
       "      <th>normalized_count</th>\n",
       "      <th>feature_type</th>\n",
       "    </tr>\n",
       "  </thead>\n",
       "  <tbody>\n",
       "    <tr>\n",
       "      <th>7852194</th>\n",
       "      <td>000225c1151ab841</td>\n",
       "      <td>chr10:100346599-100347467</td>\n",
       "      <td>2</td>\n",
       "      <td>2.664076</td>\n",
       "      <td>Peaks</td>\n",
       "    </tr>\n",
       "    <tr>\n",
       "      <th>7852195</th>\n",
       "      <td>0029fb478bc85e1e</td>\n",
       "      <td>chr10:100346599-100347467</td>\n",
       "      <td>2</td>\n",
       "      <td>0.635837</td>\n",
       "      <td>Peaks</td>\n",
       "    </tr>\n",
       "    <tr>\n",
       "      <th>7852196</th>\n",
       "      <td>002af4469acf42bd</td>\n",
       "      <td>chr10:100346599-100347467</td>\n",
       "      <td>2</td>\n",
       "      <td>0.907113</td>\n",
       "      <td>Peaks</td>\n",
       "    </tr>\n",
       "    <tr>\n",
       "      <th>7852197</th>\n",
       "      <td>0033aa62048b8766</td>\n",
       "      <td>chr10:100346599-100347467</td>\n",
       "      <td>2</td>\n",
       "      <td>0.615655</td>\n",
       "      <td>Peaks</td>\n",
       "    </tr>\n",
       "    <tr>\n",
       "      <th>7852198</th>\n",
       "      <td>003f13341431b074</td>\n",
       "      <td>chr10:100346599-100347467</td>\n",
       "      <td>2</td>\n",
       "      <td>1.416480</td>\n",
       "      <td>Peaks</td>\n",
       "    </tr>\n",
       "  </tbody>\n",
       "</table>\n",
       "</div>"
      ],
      "text/plain": [
       "                   obs_id                   location  count  normalized_count  \\\n",
       "7852194  000225c1151ab841  chr10:100346599-100347467      2          2.664076   \n",
       "7852195  0029fb478bc85e1e  chr10:100346599-100347467      2          0.635837   \n",
       "7852196  002af4469acf42bd  chr10:100346599-100347467      2          0.907113   \n",
       "7852197  0033aa62048b8766  chr10:100346599-100347467      2          0.615655   \n",
       "7852198  003f13341431b074  chr10:100346599-100347467      2          1.416480   \n",
       "\n",
       "        feature_type  \n",
       "7852194        Peaks  \n",
       "7852195        Peaks  \n",
       "7852196        Peaks  \n",
       "7852197        Peaks  \n",
       "7852198        Peaks  "
      ]
     },
     "execution_count": 62,
     "metadata": {},
     "output_type": "execute_result"
    }
   ],
   "source": [
    "print(multiome_atac_df.shape)\n",
    "multiome_atac_df.head(5)"
   ]
  },
  {
   "cell_type": "code",
   "execution_count": 65,
   "id": "bb17228a-9b29-4c30-90c2-e5b96dc6e941",
   "metadata": {
    "execution": {
     "iopub.execute_input": "2023-12-12T13:53:41.729652Z",
     "iopub.status.busy": "2023-12-12T13:53:41.729282Z",
     "iopub.status.idle": "2023-12-12T13:59:52.351689Z",
     "shell.execute_reply": "2023-12-12T13:59:52.351111Z",
     "shell.execute_reply.started": "2023-12-12T13:53:41.729628Z"
    },
    "tags": []
   },
   "outputs": [
    {
     "data": {
      "text/plain": [
       "<Axes: >"
      ]
     },
     "execution_count": 65,
     "metadata": {},
     "output_type": "execute_result"
    },
    {
     "data": {
      "image/png": "[encoded data removed]",
      "text/plain": [
       "<Figure size 640x480 with 1 Axes>"
      ]
     },
     "metadata": {},
     "output_type": "display_data"
    }
   ],
   "source": [
    "multiome_atac_df.boxplot('normalized_count')"
   ]
  },
  {
   "cell_type": "code",
   "execution_count": 66,
   "id": "0a237e5d-11e3-4f70-8003-473f08ea6389",
   "metadata": {
    "execution": {
     "iopub.execute_input": "2023-12-12T14:03:21.835060Z",
     "iopub.status.busy": "2023-12-12T14:03:21.834664Z",
     "iopub.status.idle": "2023-12-12T14:03:25.800400Z",
     "shell.execute_reply": "2023-12-12T14:03:25.799881Z",
     "shell.execute_reply.started": "2023-12-12T14:03:21.835033Z"
    },
    "tags": []
   },
   "outputs": [
    {
     "data": {
      "text/plain": [
       "array([[<Axes: title={'center': 'normalized_count'}>]], dtype=object)"
      ]
     },
     "execution_count": 66,
     "metadata": {},
     "output_type": "execute_result"
    },
    {
     "data": {
      "image/png": "[encoded data removed]",
      "text/plain": [
       "<Figure size 640x480 with 1 Axes>"
      ]
     },
     "metadata": {},
     "output_type": "display_data"
    }
   ],
   "source": [
    "multiome_atac_df.hist('normalized_count')"
   ]
  },
  {
   "cell_type": "code",
   "execution_count": 126,
   "id": "8aea820a-34d8-4573-9560-d5c24d8f703a",
   "metadata": {
    "execution": {
     "iopub.execute_input": "2023-12-12T16:04:49.118995Z",
     "iopub.status.busy": "2023-12-12T16:04:49.118593Z",
     "iopub.status.idle": "2023-12-12T16:04:49.996861Z",
     "shell.execute_reply": "2023-12-12T16:04:49.996269Z",
     "shell.execute_reply.started": "2023-12-12T16:04:49.118969Z"
    },
    "tags": []
   },
   "outputs": [
    {
     "name": "stderr",
     "output_type": "stream",
     "text": [
      "/tmp/ipykernel_303/2787259032.py:3: SettingWithCopyWarning: \n",
      "A value is trying to be set on a copy of a slice from a DataFrame.\n",
      "Try using .loc[row_indexer,col_indexer] = value instead\n",
      "\n",
      "See the caveats in the documentation: https://pandas.pydata.org/pandas-docs/stable/user_guide/indexing.html#returning-a-view-versus-a-copy\n",
      "  multiome_atac_df_quantiled[['chr', 'positions']] = multiome_atac_df_quantiled['location'].str.split(':', expand=True)\n",
      "/tmp/ipykernel_303/2787259032.py:3: SettingWithCopyWarning: \n",
      "A value is trying to be set on a copy of a slice from a DataFrame.\n",
      "Try using .loc[row_indexer,col_indexer] = value instead\n",
      "\n",
      "See the caveats in the documentation: https://pandas.pydata.org/pandas-docs/stable/user_guide/indexing.html#returning-a-view-versus-a-copy\n",
      "  multiome_atac_df_quantiled[['chr', 'positions']] = multiome_atac_df_quantiled['location'].str.split(':', expand=True)\n",
      "/tmp/ipykernel_303/2787259032.py:4: SettingWithCopyWarning: \n",
      "A value is trying to be set on a copy of a slice from a DataFrame.\n",
      "Try using .loc[row_indexer,col_indexer] = value instead\n",
      "\n",
      "See the caveats in the documentation: https://pandas.pydata.org/pandas-docs/stable/user_guide/indexing.html#returning-a-view-versus-a-copy\n",
      "  multiome_atac_df_quantiled[['start', 'end']] = multiome_atac_df_quantiled['positions'].str.split('-', expand=True)\n",
      "/tmp/ipykernel_303/2787259032.py:4: SettingWithCopyWarning: \n",
      "A value is trying to be set on a copy of a slice from a DataFrame.\n",
      "Try using .loc[row_indexer,col_indexer] = value instead\n",
      "\n",
      "See the caveats in the documentation: https://pandas.pydata.org/pandas-docs/stable/user_guide/indexing.html#returning-a-view-versus-a-copy\n",
      "  multiome_atac_df_quantiled[['start', 'end']] = multiome_atac_df_quantiled['positions'].str.split('-', expand=True)\n",
      "/tmp/ipykernel_303/2787259032.py:5: SettingWithCopyWarning: \n",
      "A value is trying to be set on a copy of a slice from a DataFrame\n",
      "\n",
      "See the caveats in the documentation: https://pandas.pydata.org/pandas-docs/stable/user_guide/indexing.html#returning-a-view-versus-a-copy\n",
      "  multiome_atac_df_quantiled.drop('positions', axis=1, inplace=True)\n",
      "/tmp/ipykernel_303/2787259032.py:6: SettingWithCopyWarning: \n",
      "A value is trying to be set on a copy of a slice from a DataFrame.\n",
      "Try using .loc[row_indexer,col_indexer] = value instead\n",
      "\n",
      "See the caveats in the documentation: https://pandas.pydata.org/pandas-docs/stable/user_guide/indexing.html#returning-a-view-versus-a-copy\n",
      "  multiome_atac_df_quantiled['start'] = multiome_atac_df_quantiled['start'].astype(int)\n",
      "/tmp/ipykernel_303/2787259032.py:7: SettingWithCopyWarning: \n",
      "A value is trying to be set on a copy of a slice from a DataFrame.\n",
      "Try using .loc[row_indexer,col_indexer] = value instead\n",
      "\n",
      "See the caveats in the documentation: https://pandas.pydata.org/pandas-docs/stable/user_guide/indexing.html#returning-a-view-versus-a-copy\n",
      "  multiome_atac_df_quantiled['end'] = multiome_atac_df_quantiled['end'].astype(int)\n"
     ]
    }
   ],
   "source": [
    "a_quantile = multiome_atac_df['normalized_count'].quantile(.9999)\n",
    "multiome_atac_df_quantiled = multiome_atac_df[multiome_atac_df['normalized_count']>a_quantile]\n",
    "multiome_atac_df_quantiled[['chr', 'positions']] = multiome_atac_df_quantiled['location'].str.split(':', expand=True)\n",
    "multiome_atac_df_quantiled[['start', 'end']] = multiome_atac_df_quantiled['positions'].str.split('-', expand=True)\n",
    "multiome_atac_df_quantiled.drop('positions', axis=1, inplace=True)\n",
    "multiome_atac_df_quantiled['start'] = multiome_atac_df_quantiled['start'].astype(int)\n",
    "multiome_atac_df_quantiled['end'] = multiome_atac_df_quantiled['end'].astype(int)"
   ]
  },
  {
   "cell_type": "code",
   "execution_count": 127,
   "id": "0f531bf8-90b6-4b28-90ff-dbaf0987a318",
   "metadata": {
    "execution": {
     "iopub.execute_input": "2023-12-12T16:04:52.807848Z",
     "iopub.status.busy": "2023-12-12T16:04:52.807169Z",
     "iopub.status.idle": "2023-12-12T16:04:52.816916Z",
     "shell.execute_reply": "2023-12-12T16:04:52.816381Z",
     "shell.execute_reply.started": "2023-12-12T16:04:52.807823Z"
    },
    "tags": []
   },
   "outputs": [
    {
     "name": "stdout",
     "output_type": "stream",
     "text": [
      "(17349, 8)\n"
     ]
    },
    {
     "data": {
      "text/html": [
       "<div>\n",
       "<style scoped>\n",
       "    .dataframe tbody tr th:only-of-type {\n",
       "        vertical-align: middle;\n",
       "    }\n",
       "\n",
       "    .dataframe tbody tr th {\n",
       "        vertical-align: top;\n",
       "    }\n",
       "\n",
       "    .dataframe thead th {\n",
       "        text-align: right;\n",
       "    }\n",
       "</style>\n",
       "<table border=\"1\" class=\"dataframe\">\n",
       "  <thead>\n",
       "    <tr style=\"text-align: right;\">\n",
       "      <th></th>\n",
       "      <th>obs_id</th>\n",
       "      <th>location</th>\n",
       "      <th>count</th>\n",
       "      <th>normalized_count</th>\n",
       "      <th>feature_type</th>\n",
       "      <th>chr</th>\n",
       "      <th>start</th>\n",
       "      <th>end</th>\n",
       "    </tr>\n",
       "  </thead>\n",
       "  <tbody>\n",
       "    <tr>\n",
       "      <th>8183986</th>\n",
       "      <td>45d176ea71182095</td>\n",
       "      <td>chr10:50410203-50411005</td>\n",
       "      <td>2</td>\n",
       "      <td>11.271763</td>\n",
       "      <td>Peaks</td>\n",
       "      <td>chr10</td>\n",
       "      <td>50410203</td>\n",
       "      <td>50411005</td>\n",
       "    </tr>\n",
       "    <tr>\n",
       "      <th>8196070</th>\n",
       "      <td>dbe5233c0fca94a2</td>\n",
       "      <td>chr10:52314043-52314990</td>\n",
       "      <td>2</td>\n",
       "      <td>11.599880</td>\n",
       "      <td>Peaks</td>\n",
       "      <td>chr10</td>\n",
       "      <td>52314043</td>\n",
       "      <td>52314990</td>\n",
       "    </tr>\n",
       "    <tr>\n",
       "      <th>9978761</th>\n",
       "      <td>f208a59a193da5d3</td>\n",
       "      <td>chr13:46995815-46996652</td>\n",
       "      <td>3</td>\n",
       "      <td>13.049441</td>\n",
       "      <td>Peaks</td>\n",
       "      <td>chr13</td>\n",
       "      <td>46995815</td>\n",
       "      <td>46996652</td>\n",
       "    </tr>\n",
       "    <tr>\n",
       "      <th>10541324</th>\n",
       "      <td>8d92dcc1d565f1e3</td>\n",
       "      <td>chr15:59349823-59350725</td>\n",
       "      <td>2</td>\n",
       "      <td>11.687633</td>\n",
       "      <td>Peaks</td>\n",
       "      <td>chr15</td>\n",
       "      <td>59349823</td>\n",
       "      <td>59350725</td>\n",
       "    </tr>\n",
       "    <tr>\n",
       "      <th>10750584</th>\n",
       "      <td>7ff42c304eb5e016</td>\n",
       "      <td>chr15:83365261-83366118</td>\n",
       "      <td>2</td>\n",
       "      <td>12.173644</td>\n",
       "      <td>Peaks</td>\n",
       "      <td>chr15</td>\n",
       "      <td>83365261</td>\n",
       "      <td>83366118</td>\n",
       "    </tr>\n",
       "  </tbody>\n",
       "</table>\n",
       "</div>"
      ],
      "text/plain": [
       "                    obs_id                 location  count  normalized_count  \\\n",
       "8183986   45d176ea71182095  chr10:50410203-50411005      2         11.271763   \n",
       "8196070   dbe5233c0fca94a2  chr10:52314043-52314990      2         11.599880   \n",
       "9978761   f208a59a193da5d3  chr13:46995815-46996652      3         13.049441   \n",
       "10541324  8d92dcc1d565f1e3  chr15:59349823-59350725      2         11.687633   \n",
       "10750584  7ff42c304eb5e016  chr15:83365261-83366118      2         12.173644   \n",
       "\n",
       "         feature_type    chr     start       end  \n",
       "8183986         Peaks  chr10  50410203  50411005  \n",
       "8196070         Peaks  chr10  52314043  52314990  \n",
       "9978761         Peaks  chr13  46995815  46996652  \n",
       "10541324        Peaks  chr15  59349823  59350725  \n",
       "10750584        Peaks  chr15  83365261  83366118  "
      ]
     },
     "execution_count": 127,
     "metadata": {},
     "output_type": "execute_result"
    }
   ],
   "source": [
    "print(multiome_atac_df_quantiled.shape)\n",
    "multiome_atac_df_quantiled.head(5)"
   ]
  },
  {
   "cell_type": "code",
   "execution_count": 128,
   "id": "412e515a-7c2e-46ff-8ebf-a9890e44391f",
   "metadata": {
    "execution": {
     "iopub.execute_input": "2023-12-12T16:04:56.758736Z",
     "iopub.status.busy": "2023-12-12T16:04:56.758345Z",
     "iopub.status.idle": "2023-12-12T16:04:56.772765Z",
     "shell.execute_reply": "2023-12-12T16:04:56.772176Z",
     "shell.execute_reply.started": "2023-12-12T16:04:56.758711Z"
    },
    "tags": []
   },
   "outputs": [
    {
     "name": "stdout",
     "output_type": "stream",
     "text": [
      "['chr10' 'chr13' 'chr15' 'chr16' 'chr1' 'chr20' 'chr3' 'chr4' 'chr6'\n",
      " 'chr8' 'chr9' 'chr12' 'chr2' 'chrY' 'chr14' 'chr17' 'chr18' 'chr19'\n",
      " 'chr21' 'chr5' 'chr7' 'chrX' 'chr11' 'chr22' 'KI270713.1' 'GL000194.1'\n",
      " 'GL000195.1' 'GL000205.2' 'GL000219.1' 'GL000218.1' 'KI270731.1']\n"
     ]
    }
   ],
   "source": [
    "print(multiome_atac_df_quantiled['chr'].unique())\n",
    "multiome_atac_df_quantiled = multiome_atac_df_quantiled[multiome_atac_df_quantiled['chr'].str.startswith('chr')]"
   ]
  },
  {
   "cell_type": "code",
   "execution_count": 129,
   "id": "6a9906f4-2fbf-445a-9586-b15a8ab0862f",
   "metadata": {
    "execution": {
     "iopub.execute_input": "2023-12-12T16:04:59.078036Z",
     "iopub.status.busy": "2023-12-12T16:04:59.077650Z",
     "iopub.status.idle": "2023-12-12T16:04:59.412348Z",
     "shell.execute_reply": "2023-12-12T16:04:59.411797Z",
     "shell.execute_reply.started": "2023-12-12T16:04:59.078012Z"
    },
    "tags": []
   },
   "outputs": [
    {
     "data": {
      "text/plain": [
       "<Axes: >"
      ]
     },
     "execution_count": 129,
     "metadata": {},
     "output_type": "execute_result"
    },
    {
     "data": {
      "image/png": "[encoded data removed]",
      "text/plain": [
       "<Figure size 640x480 with 1 Axes>"
      ]
     },
     "metadata": {},
     "output_type": "display_data"
    }
   ],
   "source": [
    "(multiome_atac_df_quantiled['end']-multiome_atac_df_quantiled['start']).hist(log=True)"
   ]
  },
  {
   "cell_type": "markdown",
   "id": "16c5b520-8b55-449e-9e10-fea9880d009d",
   "metadata": {
    "execution": {
     "iopub.execute_input": "2023-12-12T14:50:50.177207Z",
     "iopub.status.busy": "2023-12-12T14:50:50.176514Z",
     "iopub.status.idle": "2023-12-12T14:50:50.179770Z",
     "shell.execute_reply": "2023-12-12T14:50:50.179245Z",
     "shell.execute_reply.started": "2023-12-12T14:50:50.177183Z"
    },
    "tags": []
   },
   "source": [
    "# Transcription factors"
   ]
  },
  {
   "cell_type": "code",
   "execution_count": 8,
   "id": "136fc714-c8b5-4386-b838-b0183f86c1f9",
   "metadata": {
    "execution": {
     "iopub.execute_input": "2023-12-12T11:33:25.653729Z",
     "iopub.status.busy": "2023-12-12T11:33:25.653357Z",
     "iopub.status.idle": "2023-12-12T11:39:27.922865Z",
     "shell.execute_reply": "2023-12-12T11:39:27.922258Z",
     "shell.execute_reply.started": "2023-12-12T11:33:25.653705Z"
    },
    "tags": []
   },
   "outputs": [],
   "source": [
    "tf_df = pd.read_csv(tf_fn, sep='\\t', names=['chr', 'start', 'end', 'name', 'anum', 'abool'], usecols=[0,1,2,3])"
   ]
  },
  {
   "cell_type": "code",
   "execution_count": 9,
   "id": "2efaa755-c609-4b9c-9469-bbb0a1a630be",
   "metadata": {
    "execution": {
     "iopub.execute_input": "2023-12-12T11:42:23.776137Z",
     "iopub.status.busy": "2023-12-12T11:42:23.775479Z",
     "iopub.status.idle": "2023-12-12T11:42:23.783189Z",
     "shell.execute_reply": "2023-12-12T11:42:23.782660Z",
     "shell.execute_reply.started": "2023-12-12T11:42:23.776112Z"
    },
    "tags": []
   },
   "outputs": [
    {
     "name": "stdout",
     "output_type": "stream",
     "text": [
      "(667497643, 4)\n"
     ]
    },
    {
     "data": {
      "text/html": [
       "<div>\n",
       "<style scoped>\n",
       "    .dataframe tbody tr th:only-of-type {\n",
       "        vertical-align: middle;\n",
       "    }\n",
       "\n",
       "    .dataframe tbody tr th {\n",
       "        vertical-align: top;\n",
       "    }\n",
       "\n",
       "    .dataframe thead th {\n",
       "        text-align: right;\n",
       "    }\n",
       "</style>\n",
       "<table border=\"1\" class=\"dataframe\">\n",
       "  <thead>\n",
       "    <tr style=\"text-align: right;\">\n",
       "      <th></th>\n",
       "      <th>chr</th>\n",
       "      <th>start</th>\n",
       "      <th>end</th>\n",
       "      <th>name</th>\n",
       "    </tr>\n",
       "  </thead>\n",
       "  <tbody>\n",
       "    <tr>\n",
       "      <th>0</th>\n",
       "      <td>chr1</td>\n",
       "      <td>10144</td>\n",
       "      <td>10151</td>\n",
       "      <td>Pitx1(Homeobox)</td>\n",
       "    </tr>\n",
       "    <tr>\n",
       "      <th>1</th>\n",
       "      <td>chr1</td>\n",
       "      <td>10144</td>\n",
       "      <td>10155</td>\n",
       "      <td>COUP-TFII(NR)</td>\n",
       "    </tr>\n",
       "    <tr>\n",
       "      <th>2</th>\n",
       "      <td>chr1</td>\n",
       "      <td>10228</td>\n",
       "      <td>10235</td>\n",
       "      <td>Pitx1(Homeobox)</td>\n",
       "    </tr>\n",
       "    <tr>\n",
       "      <th>3</th>\n",
       "      <td>chr1</td>\n",
       "      <td>10228</td>\n",
       "      <td>10239</td>\n",
       "      <td>COUP-TFII(NR)</td>\n",
       "    </tr>\n",
       "    <tr>\n",
       "      <th>4</th>\n",
       "      <td>chr1</td>\n",
       "      <td>10232</td>\n",
       "      <td>10251</td>\n",
       "      <td>PSE(SNAPc)</td>\n",
       "    </tr>\n",
       "  </tbody>\n",
       "</table>\n",
       "</div>"
      ],
      "text/plain": [
       "    chr  start    end             name\n",
       "0  chr1  10144  10151  Pitx1(Homeobox)\n",
       "1  chr1  10144  10155    COUP-TFII(NR)\n",
       "2  chr1  10228  10235  Pitx1(Homeobox)\n",
       "3  chr1  10228  10239    COUP-TFII(NR)\n",
       "4  chr1  10232  10251       PSE(SNAPc)"
      ]
     },
     "execution_count": 9,
     "metadata": {},
     "output_type": "execute_result"
    }
   ],
   "source": [
    "print(tf_df.shape)\n",
    "tf_df.head(5)"
   ]
  },
  {
   "cell_type": "code",
   "execution_count": 91,
   "id": "be6c9444-0f15-4676-a82b-5e861918eafc",
   "metadata": {
    "execution": {
     "iopub.execute_input": "2023-12-12T14:54:09.500311Z",
     "iopub.status.busy": "2023-12-12T14:54:09.499920Z",
     "iopub.status.idle": "2023-12-12T14:54:09.818361Z",
     "shell.execute_reply": "2023-12-12T14:54:09.817818Z",
     "shell.execute_reply.started": "2023-12-12T14:54:09.500285Z"
    },
    "tags": []
   },
   "outputs": [
    {
     "data": {
      "text/plain": [
       "0     7\n",
       "1    11\n",
       "2     7\n",
       "3    11\n",
       "4    19\n",
       "dtype: int64"
      ]
     },
     "execution_count": 91,
     "metadata": {},
     "output_type": "execute_result"
    }
   ],
   "source": [
    "tf_diff_df = tf_df['end']-tf_df['start']\n",
    "tf_diff_df.head(5)"
   ]
  },
  {
   "cell_type": "code",
   "execution_count": 93,
   "id": "491bfa52-ec3f-4a06-9d58-03df9f68d6a6",
   "metadata": {
    "execution": {
     "iopub.execute_input": "2023-12-12T14:55:48.355854Z",
     "iopub.status.busy": "2023-12-12T14:55:48.355474Z",
     "iopub.status.idle": "2023-12-12T14:56:00.997485Z",
     "shell.execute_reply": "2023-12-12T14:56:00.996963Z",
     "shell.execute_reply.started": "2023-12-12T14:55:48.355830Z"
    },
    "tags": []
   },
   "outputs": [
    {
     "data": {
      "text/plain": [
       "<Axes: >"
      ]
     },
     "execution_count": 93,
     "metadata": {},
     "output_type": "execute_result"
    },
    {
     "data": {
      "image/png": "[encoded data removed]",
      "text/plain": [
       "<Figure size 640x480 with 1 Axes>"
      ]
     },
     "metadata": {},
     "output_type": "display_data"
    }
   ],
   "source": [
    "tf_diff_df.hist(log=True)"
   ]
  },
  {
   "cell_type": "code",
   "execution_count": 94,
   "id": "da9ea3dd-c9d8-4cde-acbe-7b2898a589b8",
   "metadata": {
    "execution": {
     "iopub.execute_input": "2023-12-12T14:56:00.998818Z",
     "iopub.status.busy": "2023-12-12T14:56:00.998511Z",
     "iopub.status.idle": "2023-12-12T14:56:20.801053Z",
     "shell.execute_reply": "2023-12-12T14:56:20.800495Z",
     "shell.execute_reply.started": "2023-12-12T14:56:00.998795Z"
    },
    "tags": []
   },
   "outputs": [
    {
     "data": {
      "text/plain": [
       "<Axes: >"
      ]
     },
     "execution_count": 94,
     "metadata": {},
     "output_type": "execute_result"
    },
    {
     "data": {
      "image/png": "[encoded data removed]",
      "text/plain": [
       "<Figure size 640x480 with 1 Axes>"
      ]
     },
     "metadata": {},
     "output_type": "display_data"
    }
   ],
   "source": [
    "tf_diff_df[tf_diff_df<2000].hist(log=True)"
   ]
  },
  {
   "cell_type": "code",
   "execution_count": 20,
   "id": "e6116309-180d-49da-a563-bf51fc54841a",
   "metadata": {
    "execution": {
     "iopub.execute_input": "2023-12-12T11:55:05.203322Z",
     "iopub.status.busy": "2023-12-12T11:55:05.202638Z",
     "iopub.status.idle": "2023-12-12T11:55:05.209188Z",
     "shell.execute_reply": "2023-12-12T11:55:05.208624Z",
     "shell.execute_reply.started": "2023-12-12T11:55:05.203297Z"
    },
    "tags": []
   },
   "outputs": [],
   "source": [
    "unique_chrs = [x for x in tf_df['chr'].unique() if '_' not in x]"
   ]
  },
  {
   "cell_type": "code",
   "execution_count": 24,
   "id": "cec3e83f-3c07-4d3f-976a-45bc539d6761",
   "metadata": {
    "execution": {
     "iopub.execute_input": "2023-12-12T11:59:04.431987Z",
     "iopub.status.busy": "2023-12-12T11:59:04.431620Z",
     "iopub.status.idle": "2023-12-12T12:39:05.690371Z",
     "shell.execute_reply": "2023-12-12T12:39:05.689761Z",
     "shell.execute_reply.started": "2023-12-12T11:59:04.431963Z"
    },
    "tags": []
   },
   "outputs": [
    {
     "name": "stdout",
     "output_type": "stream",
     "text": [
      "chr1\n",
      "chr10\n",
      "chr11\n",
      "chr12\n",
      "chr13\n",
      "chr14\n",
      "chr15\n",
      "chr16\n",
      "chr17\n",
      "chr18\n",
      "chr19\n",
      "chr2\n",
      "chr20\n",
      "chr21\n",
      "chr22\n",
      "chr3\n",
      "chr4\n",
      "chr5\n",
      "chr6\n",
      "chr7\n",
      "chr8\n",
      "chr9\n",
      "chrM\n",
      "chrX\n",
      "chrY\n"
     ]
    }
   ],
   "source": [
    "for chr in unique_chrs:\n",
    "    print(chr)\n",
    "    fn = working_dir + f'/tfs-chrs/{chr}.csv'\n",
    "    if not os.path.exists(fn):\n",
    "        tf_df[tf_df['chr']==chr].to_csv(fn)"
   ]
  },
  {
   "cell_type": "code",
   "execution_count": 95,
   "id": "bc070ffd-57af-4a03-95f4-aa2b9587653d",
   "metadata": {
    "execution": {
     "iopub.execute_input": "2023-12-12T15:02:01.535911Z",
     "iopub.status.busy": "2023-12-12T15:02:01.535526Z",
     "iopub.status.idle": "2023-12-12T15:02:01.539010Z",
     "shell.execute_reply": "2023-12-12T15:02:01.538467Z",
     "shell.execute_reply.started": "2023-12-12T15:02:01.535886Z"
    },
    "tags": []
   },
   "outputs": [],
   "source": [
    "last_chr_tf, last_chr_tf_df = None, None"
   ]
  },
  {
   "cell_type": "code",
   "execution_count": 100,
   "id": "fa927d15-f237-40c6-bd22-af8393caf0f9",
   "metadata": {
    "execution": {
     "iopub.execute_input": "2023-12-12T15:05:37.210502Z",
     "iopub.status.busy": "2023-12-12T15:05:37.210127Z",
     "iopub.status.idle": "2023-12-12T15:05:37.215184Z",
     "shell.execute_reply": "2023-12-12T15:05:37.214641Z",
     "shell.execute_reply.started": "2023-12-12T15:05:37.210477Z"
    },
    "tags": []
   },
   "outputs": [],
   "source": [
    "# 0\tchr1\t10144\t10151\tPitx1(Homeobox)\n",
    "def contains_tf(chr, pos_start, pos_end):\n",
    "    global last_chr_tf, last_chr_tf_df\n",
    "    assert isinstance(ch, str) # chr1, ...\n",
    "    if chr != last_chr_tf:\n",
    "        last_chr_tf = chr\n",
    "        print(f'loding last_chr_df {chr} ...')\n",
    "        last_chr_tf_df = pd.read_csv(working_dir + f'/tfs-chrs/{chr}.csv')\n",
    "        print('done')\n",
    "        \n",
    "    t_df = last_chr_tf_df[(last_chr_tf_df['start']>=pos_start) & (last_chr_tf_df['end']<=pos_end)]\n",
    "    ret = []\n",
    "    for name in t_df['name'].to_list():\n",
    "        ret.append(name.split('(')[0])\n",
    "    return ret"
   ]
  },
  {
   "cell_type": "code",
   "execution_count": 147,
   "id": "335eca98-7aa8-450a-a685-fd14ffc7a1b6",
   "metadata": {
    "execution": {
     "iopub.execute_input": "2023-12-12T16:43:14.828483Z",
     "iopub.status.busy": "2023-12-12T16:43:14.828094Z",
     "iopub.status.idle": "2023-12-12T16:43:14.905986Z",
     "shell.execute_reply": "2023-12-12T16:43:14.905429Z",
     "shell.execute_reply.started": "2023-12-12T16:43:14.828459Z"
    },
    "tags": []
   },
   "outputs": [
    {
     "data": {
      "text/plain": [
       "['Pitx1', 'COUP-TFII']"
      ]
     },
     "execution_count": 147,
     "metadata": {},
     "output_type": "execute_result"
    }
   ],
   "source": [
    "# 0\tchr1\t10144\t10151\tPitx1(Homeobox)\n",
    "# \tchr1\t10144\t10155\tCOUP-TFII(NR)\n",
    "contains_tf('chr1', 10143, 10160)"
   ]
  },
  {
   "cell_type": "code",
   "execution_count": 130,
   "id": "1460b5a3-bc8d-45b9-a5f4-f477f48fc4d1",
   "metadata": {
    "execution": {
     "iopub.execute_input": "2023-12-12T16:05:05.523788Z",
     "iopub.status.busy": "2023-12-12T16:05:05.523395Z",
     "iopub.status.idle": "2023-12-12T16:05:05.541081Z",
     "shell.execute_reply": "2023-12-12T16:05:05.540428Z",
     "shell.execute_reply.started": "2023-12-12T16:05:05.523763Z"
    },
    "tags": []
   },
   "outputs": [],
   "source": [
    "multiome_atac_df_quantiled.sort_values(by='chr', inplace=True)"
   ]
  },
  {
   "cell_type": "code",
   "execution_count": 131,
   "id": "b674f811-1199-44e1-9bb0-ecdc3342e0df",
   "metadata": {
    "execution": {
     "iopub.execute_input": "2023-12-12T16:05:08.009919Z",
     "iopub.status.busy": "2023-12-12T16:05:08.009541Z",
     "iopub.status.idle": "2023-12-12T16:05:08.019295Z",
     "shell.execute_reply": "2023-12-12T16:05:08.018586Z",
     "shell.execute_reply.started": "2023-12-12T16:05:08.009895Z"
    },
    "tags": []
   },
   "outputs": [
    {
     "data": {
      "text/html": [
       "<div>\n",
       "<style scoped>\n",
       "    .dataframe tbody tr th:only-of-type {\n",
       "        vertical-align: middle;\n",
       "    }\n",
       "\n",
       "    .dataframe tbody tr th {\n",
       "        vertical-align: top;\n",
       "    }\n",
       "\n",
       "    .dataframe thead th {\n",
       "        text-align: right;\n",
       "    }\n",
       "</style>\n",
       "<table border=\"1\" class=\"dataframe\">\n",
       "  <thead>\n",
       "    <tr style=\"text-align: right;\">\n",
       "      <th></th>\n",
       "      <th>obs_id</th>\n",
       "      <th>location</th>\n",
       "      <th>count</th>\n",
       "      <th>normalized_count</th>\n",
       "      <th>feature_type</th>\n",
       "      <th>chr</th>\n",
       "      <th>start</th>\n",
       "      <th>end</th>\n",
       "    </tr>\n",
       "  </thead>\n",
       "  <tbody>\n",
       "    <tr>\n",
       "      <th>204109135</th>\n",
       "      <td>c7b943c78b4bf575</td>\n",
       "      <td>chr1:205199268-205200201</td>\n",
       "      <td>2</td>\n",
       "      <td>11.333420</td>\n",
       "      <td>Peaks</td>\n",
       "      <td>chr1</td>\n",
       "      <td>205199268</td>\n",
       "      <td>205200201</td>\n",
       "    </tr>\n",
       "    <tr>\n",
       "      <th>171344489</th>\n",
       "      <td>9c4414aa8eff2754</td>\n",
       "      <td>chr1:61588454-61589330</td>\n",
       "      <td>2</td>\n",
       "      <td>10.756858</td>\n",
       "      <td>Peaks</td>\n",
       "      <td>chr1</td>\n",
       "      <td>61588454</td>\n",
       "      <td>61589330</td>\n",
       "    </tr>\n",
       "    <tr>\n",
       "      <th>171344396</th>\n",
       "      <td>20f0d1325e46f8d0</td>\n",
       "      <td>chr1:61588454-61589330</td>\n",
       "      <td>2</td>\n",
       "      <td>10.660714</td>\n",
       "      <td>Peaks</td>\n",
       "      <td>chr1</td>\n",
       "      <td>61588454</td>\n",
       "      <td>61589330</td>\n",
       "    </tr>\n",
       "    <tr>\n",
       "      <th>171341410</th>\n",
       "      <td>fb7b4a51b922bd5e</td>\n",
       "      <td>chr1:5640572-5641457</td>\n",
       "      <td>2</td>\n",
       "      <td>11.253135</td>\n",
       "      <td>Peaks</td>\n",
       "      <td>chr1</td>\n",
       "      <td>5640572</td>\n",
       "      <td>5641457</td>\n",
       "    </tr>\n",
       "    <tr>\n",
       "      <th>171331241</th>\n",
       "      <td>4fa5cd5336a6ca6a</td>\n",
       "      <td>chr1:53416757-53417579</td>\n",
       "      <td>3</td>\n",
       "      <td>11.038558</td>\n",
       "      <td>Peaks</td>\n",
       "      <td>chr1</td>\n",
       "      <td>53416757</td>\n",
       "      <td>53417579</td>\n",
       "    </tr>\n",
       "  </tbody>\n",
       "</table>\n",
       "</div>"
      ],
      "text/plain": [
       "                     obs_id                  location  count  \\\n",
       "204109135  c7b943c78b4bf575  chr1:205199268-205200201      2   \n",
       "171344489  9c4414aa8eff2754    chr1:61588454-61589330      2   \n",
       "171344396  20f0d1325e46f8d0    chr1:61588454-61589330      2   \n",
       "171341410  fb7b4a51b922bd5e      chr1:5640572-5641457      2   \n",
       "171331241  4fa5cd5336a6ca6a    chr1:53416757-53417579      3   \n",
       "\n",
       "           normalized_count feature_type   chr      start        end  \n",
       "204109135         11.333420        Peaks  chr1  205199268  205200201  \n",
       "171344489         10.756858        Peaks  chr1   61588454   61589330  \n",
       "171344396         10.660714        Peaks  chr1   61588454   61589330  \n",
       "171341410         11.253135        Peaks  chr1    5640572    5641457  \n",
       "171331241         11.038558        Peaks  chr1   53416757   53417579  "
      ]
     },
     "execution_count": 131,
     "metadata": {},
     "output_type": "execute_result"
    }
   ],
   "source": [
    "multiome_atac_df_quantiled.head()"
   ]
  },
  {
   "cell_type": "code",
   "execution_count": 132,
   "id": "0b0e0ebb-21b5-4ff6-a4de-b858f677405c",
   "metadata": {
    "execution": {
     "iopub.execute_input": "2023-12-12T16:05:10.936599Z",
     "iopub.status.busy": "2023-12-12T16:05:10.936210Z",
     "iopub.status.idle": "2023-12-12T16:27:54.377759Z",
     "shell.execute_reply": "2023-12-12T16:27:54.377182Z",
     "shell.execute_reply.started": "2023-12-12T16:05:10.936574Z"
    },
    "tags": []
   },
   "outputs": [
    {
     "name": "stderr",
     "output_type": "stream",
     "text": [
      "  9%|▉         | 1613/17332 [02:24<23:27, 11.17it/s]"
     ]
    },
    {
     "name": "stdout",
     "output_type": "stream",
     "text": [
      "loding last_chr_df chr10 ...\n"
     ]
    },
    {
     "name": "stderr",
     "output_type": "stream",
     "text": [
      "  9%|▉         | 1615/17332 [02:43<12:34:09,  2.88s/it]"
     ]
    },
    {
     "name": "stdout",
     "output_type": "stream",
     "text": [
      "done\n"
     ]
    },
    {
     "name": "stderr",
     "output_type": "stream",
     "text": [
      " 14%|█▍        | 2509/17332 [03:33<13:35, 18.18it/s]   "
     ]
    },
    {
     "name": "stdout",
     "output_type": "stream",
     "text": [
      "loding last_chr_df chr11 ...\n"
     ]
    },
    {
     "name": "stderr",
     "output_type": "stream",
     "text": [
      " 14%|█▍        | 2510/17332 [03:51<13:41:01,  3.32s/it]"
     ]
    },
    {
     "name": "stdout",
     "output_type": "stream",
     "text": [
      "done\n"
     ]
    },
    {
     "name": "stderr",
     "output_type": "stream",
     "text": [
      " 18%|█▊        | 3176/17332 [04:29<13:12, 17.87it/s]   "
     ]
    },
    {
     "name": "stdout",
     "output_type": "stream",
     "text": [
      "loding last_chr_df chr12 ...\n"
     ]
    },
    {
     "name": "stderr",
     "output_type": "stream",
     "text": [
      " 18%|█▊        | 3177/17332 [04:48<13:45:39,  3.50s/it]"
     ]
    },
    {
     "name": "stdout",
     "output_type": "stream",
     "text": [
      "done\n"
     ]
    },
    {
     "name": "stderr",
     "output_type": "stream",
     "text": [
      " 23%|██▎       | 3977/17332 [05:32<12:04, 18.43it/s]   "
     ]
    },
    {
     "name": "stdout",
     "output_type": "stream",
     "text": [
      "loding last_chr_df chr13 ...\n"
     ]
    },
    {
     "name": "stderr",
     "output_type": "stream",
     "text": [
      " 23%|██▎       | 3979/17332 [05:46<8:12:58,  2.22s/it]"
     ]
    },
    {
     "name": "stdout",
     "output_type": "stream",
     "text": [
      "done\n"
     ]
    },
    {
     "name": "stderr",
     "output_type": "stream",
     "text": [
      " 26%|██▌       | 4456/17332 [06:06<09:05, 23.62it/s]  "
     ]
    },
    {
     "name": "stdout",
     "output_type": "stream",
     "text": [
      "loding last_chr_df chr14 ...\n"
     ]
    },
    {
     "name": "stderr",
     "output_type": "stream",
     "text": [
      " 26%|██▌       | 4462/17332 [06:20<3:32:15,  1.01it/s]"
     ]
    },
    {
     "name": "stdout",
     "output_type": "stream",
     "text": [
      "done\n"
     ]
    },
    {
     "name": "stderr",
     "output_type": "stream",
     "text": [
      " 29%|██▉       | 5029/17332 [06:42<08:00, 25.60it/s]  "
     ]
    },
    {
     "name": "stdout",
     "output_type": "stream",
     "text": [
      "loding last_chr_df chr15 ...\n"
     ]
    },
    {
     "name": "stderr",
     "output_type": "stream",
     "text": [
      " 29%|██▉       | 5032/17332 [06:55<4:19:36,  1.27s/it]"
     ]
    },
    {
     "name": "stdout",
     "output_type": "stream",
     "text": [
      "done\n"
     ]
    },
    {
     "name": "stderr",
     "output_type": "stream",
     "text": [
      " 33%|███▎      | 5656/17332 [07:18<07:18, 26.65it/s]  "
     ]
    },
    {
     "name": "stdout",
     "output_type": "stream",
     "text": [
      "loding last_chr_df chr16 ...\n"
     ]
    },
    {
     "name": "stderr",
     "output_type": "stream",
     "text": [
      " 33%|███▎      | 5662/17332 [07:30<2:43:17,  1.19it/s]"
     ]
    },
    {
     "name": "stdout",
     "output_type": "stream",
     "text": [
      "done\n"
     ]
    },
    {
     "name": "stderr",
     "output_type": "stream",
     "text": [
      " 35%|███▍      | 6037/17332 [07:43<06:55, 27.16it/s]  "
     ]
    },
    {
     "name": "stdout",
     "output_type": "stream",
     "text": [
      "loding last_chr_df chr17 ...\n"
     ]
    },
    {
     "name": "stderr",
     "output_type": "stream",
     "text": [
      " 35%|███▍      | 6043/17332 [07:55<2:35:08,  1.21it/s]"
     ]
    },
    {
     "name": "stdout",
     "output_type": "stream",
     "text": [
      "done\n"
     ]
    },
    {
     "name": "stderr",
     "output_type": "stream",
     "text": [
      " 39%|███▊      | 6679/17332 [08:17<06:12, 28.57it/s]  "
     ]
    },
    {
     "name": "stdout",
     "output_type": "stream",
     "text": [
      "loding last_chr_df chr18 ...\n"
     ]
    },
    {
     "name": "stderr",
     "output_type": "stream",
     "text": [
      " 39%|███▊      | 6684/17332 [08:29<2:37:56,  1.12it/s]"
     ]
    },
    {
     "name": "stdout",
     "output_type": "stream",
     "text": [
      "done\n"
     ]
    },
    {
     "name": "stderr",
     "output_type": "stream",
     "text": [
      " 41%|████▏     | 7152/17332 [08:45<06:03, 27.99it/s]  "
     ]
    },
    {
     "name": "stdout",
     "output_type": "stream",
     "text": [
      "loding last_chr_df chr19 ...\n"
     ]
    },
    {
     "name": "stderr",
     "output_type": "stream",
     "text": [
      " 41%|████▏     | 7162/17332 [08:53<1:11:05,  2.38it/s]"
     ]
    },
    {
     "name": "stdout",
     "output_type": "stream",
     "text": [
      "done\n"
     ]
    },
    {
     "name": "stderr",
     "output_type": "stream",
     "text": [
      " 43%|████▎     | 7463/17332 [08:58<02:31, 65.20it/s]  "
     ]
    },
    {
     "name": "stdout",
     "output_type": "stream",
     "text": [
      "loding last_chr_df chr2 ...\n"
     ]
    },
    {
     "name": "stderr",
     "output_type": "stream",
     "text": [
      " 43%|████▎     | 7466/17332 [09:34<5:04:00,  1.85s/it]"
     ]
    },
    {
     "name": "stdout",
     "output_type": "stream",
     "text": [
      "done\n"
     ]
    },
    {
     "name": "stderr",
     "output_type": "stream",
     "text": [
      " 52%|█████▏    | 9031/17332 [11:09<08:23, 16.48it/s]  "
     ]
    },
    {
     "name": "stdout",
     "output_type": "stream",
     "text": [
      "loding last_chr_df chr20 ...\n"
     ]
    },
    {
     "name": "stderr",
     "output_type": "stream",
     "text": [
      " 52%|█████▏    | 9037/17332 [11:17<1:34:30,  1.46it/s]"
     ]
    },
    {
     "name": "stdout",
     "output_type": "stream",
     "text": [
      "done\n"
     ]
    },
    {
     "name": "stderr",
     "output_type": "stream",
     "text": [
      " 55%|█████▍    | 9465/17332 [11:29<03:51, 33.94it/s]  "
     ]
    },
    {
     "name": "stdout",
     "output_type": "stream",
     "text": [
      "loding last_chr_df chr21 ...\n"
     ]
    },
    {
     "name": "stderr",
     "output_type": "stream",
     "text": [
      " 55%|█████▍    | 9478/17332 [11:35<29:26,  4.44it/s]"
     ]
    },
    {
     "name": "stdout",
     "output_type": "stream",
     "text": [
      "done\n"
     ]
    },
    {
     "name": "stderr",
     "output_type": "stream",
     "text": [
      " 56%|█████▌    | 9718/17332 [11:38<01:23, 91.30it/s]"
     ]
    },
    {
     "name": "stdout",
     "output_type": "stream",
     "text": [
      "loding last_chr_df chr22 ...\n"
     ]
    },
    {
     "name": "stderr",
     "output_type": "stream",
     "text": [
      " 56%|█████▌    | 9728/17332 [11:43<21:26,  5.91it/s]"
     ]
    },
    {
     "name": "stdout",
     "output_type": "stream",
     "text": [
      "done\n"
     ]
    },
    {
     "name": "stderr",
     "output_type": "stream",
     "text": [
      " 58%|█████▊    | 9968/17332 [11:45<01:18, 93.83it/s]"
     ]
    },
    {
     "name": "stdout",
     "output_type": "stream",
     "text": [
      "loding last_chr_df chr3 ...\n"
     ]
    },
    {
     "name": "stderr",
     "output_type": "stream",
     "text": [
      " 58%|█████▊    | 9970/17332 [12:14<2:20:13,  1.14s/it]"
     ]
    },
    {
     "name": "stdout",
     "output_type": "stream",
     "text": [
      "done\n"
     ]
    },
    {
     "name": "stderr",
     "output_type": "stream",
     "text": [
      " 64%|██████▍   | 11124/17332 [13:44<08:02, 12.86it/s] "
     ]
    },
    {
     "name": "stdout",
     "output_type": "stream",
     "text": [
      "loding last_chr_df chr4 ...\n"
     ]
    },
    {
     "name": "stderr",
     "output_type": "stream",
     "text": [
      " 64%|██████▍   | 11126/17332 [14:12<7:23:27,  4.29s/it]"
     ]
    },
    {
     "name": "stdout",
     "output_type": "stream",
     "text": [
      "done\n"
     ]
    },
    {
     "name": "stderr",
     "output_type": "stream",
     "text": [
      " 69%|██████▉   | 12040/17332 [15:22<06:42, 13.15it/s]  "
     ]
    },
    {
     "name": "stdout",
     "output_type": "stream",
     "text": [
      "loding last_chr_df chr5 ...\n"
     ]
    },
    {
     "name": "stderr",
     "output_type": "stream",
     "text": [
      " 69%|██████▉   | 12042/17332 [15:47<5:32:40,  3.77s/it]"
     ]
    },
    {
     "name": "stdout",
     "output_type": "stream",
     "text": [
      "done\n"
     ]
    },
    {
     "name": "stderr",
     "output_type": "stream",
     "text": [
      " 76%|███████▌  | 13086/17332 [17:02<05:05, 13.90it/s]  "
     ]
    },
    {
     "name": "stdout",
     "output_type": "stream",
     "text": [
      "loding last_chr_df chr6 ...\n"
     ]
    },
    {
     "name": "stderr",
     "output_type": "stream",
     "text": [
      " 76%|███████▌  | 13088/17332 [17:26<4:10:04,  3.54s/it]"
     ]
    },
    {
     "name": "stdout",
     "output_type": "stream",
     "text": [
      "done\n"
     ]
    },
    {
     "name": "stderr",
     "output_type": "stream",
     "text": [
      " 82%|████████▏ | 14249/17332 [18:17<02:14, 22.94it/s]  "
     ]
    },
    {
     "name": "stdout",
     "output_type": "stream",
     "text": [
      "loding last_chr_df chr7 ...\n"
     ]
    },
    {
     "name": "stderr",
     "output_type": "stream",
     "text": [
      " 82%|████████▏ | 14250/17332 [18:38<2:20:46,  2.74s/it]"
     ]
    },
    {
     "name": "stdout",
     "output_type": "stream",
     "text": [
      "done\n"
     ]
    },
    {
     "name": "stderr",
     "output_type": "stream",
     "text": [
      " 87%|████████▋ | 15157/17332 [19:36<02:20, 15.52it/s]  "
     ]
    },
    {
     "name": "stdout",
     "output_type": "stream",
     "text": [
      "loding last_chr_df chr8 ...\n"
     ]
    },
    {
     "name": "stderr",
     "output_type": "stream",
     "text": [
      " 87%|████████▋ | 15159/17332 [19:56<1:49:58,  3.04s/it]"
     ]
    },
    {
     "name": "stdout",
     "output_type": "stream",
     "text": [
      "done\n"
     ]
    },
    {
     "name": "stderr",
     "output_type": "stream",
     "text": [
      " 92%|█████████▏| 16007/17332 [20:48<01:20, 16.54it/s]  "
     ]
    },
    {
     "name": "stdout",
     "output_type": "stream",
     "text": [
      "loding last_chr_df chr9 ...\n"
     ]
    },
    {
     "name": "stderr",
     "output_type": "stream",
     "text": [
      " 92%|█████████▏| 16009/17332 [21:04<55:21,  2.51s/it]"
     ]
    },
    {
     "name": "stdout",
     "output_type": "stream",
     "text": [
      "done\n"
     ]
    },
    {
     "name": "stderr",
     "output_type": "stream",
     "text": [
      " 96%|█████████▋| 16689/17332 [21:39<00:33, 19.40it/s]"
     ]
    },
    {
     "name": "stdout",
     "output_type": "stream",
     "text": [
      "loding last_chr_df chrX ...\n"
     ]
    },
    {
     "name": "stderr",
     "output_type": "stream",
     "text": [
      " 96%|█████████▋| 16690/17332 [22:01<41:39,  3.89s/it]"
     ]
    },
    {
     "name": "stdout",
     "output_type": "stream",
     "text": [
      "done\n"
     ]
    },
    {
     "name": "stderr",
     "output_type": "stream",
     "text": [
      "100%|█████████▉| 17280/17332 [22:39<00:03, 15.63it/s]"
     ]
    },
    {
     "name": "stdout",
     "output_type": "stream",
     "text": [
      "loding last_chr_df chrY ...\n"
     ]
    },
    {
     "name": "stderr",
     "output_type": "stream",
     "text": [
      "100%|█████████▉| 17296/17332 [22:43<00:05,  6.65it/s]"
     ]
    },
    {
     "name": "stdout",
     "output_type": "stream",
     "text": [
      "done\n"
     ]
    },
    {
     "name": "stderr",
     "output_type": "stream",
     "text": [
      "100%|██████████| 17332/17332 [22:43<00:00, 12.71it/s]\n"
     ]
    }
   ],
   "source": [
    "from tqdm import tqdm\n",
    "tqdm.pandas()\n",
    "multiome_atac_quantiled_fn = working_dir + 'multiome_atac_df_quantiled.csv'\n",
    "if not os.path.exists(multiome_atac_quantiled_fn):\n",
    "    multiome_atac_df_quantiled['tfs'] = multiome_atac_df_quantiled.progress_apply(\n",
    "        lambda row: contains_tf(row['chr'], row['start'], row['end']), axis=1)\n",
    "    multiome_atac_df_quantiled.write_csv(multiome_atac_quantiled_fn)\n",
    "    \n",
    "multiome_atac_df_quantiled = pd.read_csv(multiome_atac_quantiled_fn)"
   ]
  },
  {
   "cell_type": "code",
   "execution_count": null,
   "id": "0e3a4c9d-9b56-4576-8cf3-9acff952e56d",
   "metadata": {
    "tags": []
   },
   "outputs": [],
   "source": [
    "multiome_atac_df_quantiled.head(5)"
   ]
  },
  {
   "cell_type": "markdown",
   "id": "9215f29e-0c3a-40f3-af5b-313b21829795",
   "metadata": {},
   "source": [
    "# Motif information (a short exploration, we didn't take this approach)"
   ]
  },
  {
   "cell_type": "code",
   "execution_count": 6,
   "id": "7a55967c-331b-49e3-8c8b-9a8efcc012ea",
   "metadata": {
    "execution": {
     "iopub.execute_input": "2023-12-09T16:39:35.560883Z",
     "iopub.status.busy": "2023-12-09T16:39:35.560508Z",
     "iopub.status.idle": "2023-12-09T16:39:35.569735Z",
     "shell.execute_reply": "2023-12-09T16:39:35.569225Z",
     "shell.execute_reply.started": "2023-12-09T16:39:35.560859Z"
    },
    "tags": []
   },
   "outputs": [],
   "source": [
    "rows = []\n",
    "with open(motifs_fn) as f:\n",
    "    for line in f:\n",
    "        if line.startswith('>'):\n",
    "            parts = line.split('\\t')\n",
    "            parts2 = parts[1].split('/')\n",
    "            parts3 = parts2[0].split('(')\n",
    "            rows.append([parts[0][1:], parts3[0]])\n",
    "motifs_df = pd.DataFrame(rows, columns=['motif', 'tf'])"
   ]
  },
  {
   "cell_type": "code",
   "execution_count": 7,
   "id": "8b4722ba-50c9-4b1d-b2ac-3e9b8ab239eb",
   "metadata": {
    "execution": {
     "iopub.execute_input": "2023-12-09T16:39:38.428535Z",
     "iopub.status.busy": "2023-12-09T16:39:38.428170Z",
     "iopub.status.idle": "2023-12-09T16:39:38.435274Z",
     "shell.execute_reply": "2023-12-09T16:39:38.434776Z",
     "shell.execute_reply.started": "2023-12-09T16:39:38.428511Z"
    },
    "tags": []
   },
   "outputs": [
    {
     "name": "stdout",
     "output_type": "stream",
     "text": [
      "(436, 2)\n"
     ]
    },
    {
     "data": {
      "text/html": [
       "<div>\n",
       "<style scoped>\n",
       "    .dataframe tbody tr th:only-of-type {\n",
       "        vertical-align: middle;\n",
       "    }\n",
       "\n",
       "    .dataframe tbody tr th {\n",
       "        vertical-align: top;\n",
       "    }\n",
       "\n",
       "    .dataframe thead th {\n",
       "        text-align: right;\n",
       "    }\n",
       "</style>\n",
       "<table border=\"1\" class=\"dataframe\">\n",
       "  <thead>\n",
       "    <tr style=\"text-align: right;\">\n",
       "      <th></th>\n",
       "      <th>motif</th>\n",
       "      <th>tf</th>\n",
       "    </tr>\n",
       "  </thead>\n",
       "  <tbody>\n",
       "    <tr>\n",
       "      <th>0</th>\n",
       "      <td>ATGACTCATC</td>\n",
       "      <td>AP-1</td>\n",
       "    </tr>\n",
       "    <tr>\n",
       "      <th>1</th>\n",
       "      <td>SCCTSAGGSCAW</td>\n",
       "      <td>AP-2gamma</td>\n",
       "    </tr>\n",
       "    <tr>\n",
       "      <th>2</th>\n",
       "      <td>ATGCCCTGAGGC</td>\n",
       "      <td>AP-2alpha</td>\n",
       "    </tr>\n",
       "    <tr>\n",
       "      <th>3</th>\n",
       "      <td>NAHCAGCTGD</td>\n",
       "      <td>Ap4</td>\n",
       "    </tr>\n",
       "    <tr>\n",
       "      <th>4</th>\n",
       "      <td>AGTAAACAAAAAAGAACANA</td>\n",
       "      <td>FOXA1:AR</td>\n",
       "    </tr>\n",
       "  </tbody>\n",
       "</table>\n",
       "</div>"
      ],
      "text/plain": [
       "                  motif         tf\n",
       "0            ATGACTCATC       AP-1\n",
       "1          SCCTSAGGSCAW  AP-2gamma\n",
       "2          ATGCCCTGAGGC  AP-2alpha\n",
       "3            NAHCAGCTGD        Ap4\n",
       "4  AGTAAACAAAAAAGAACANA   FOXA1:AR"
      ]
     },
     "execution_count": 7,
     "metadata": {},
     "output_type": "execute_result"
    }
   ],
   "source": [
    "print(motifs_df.shape)\n",
    "motifs_df.head(5)"
   ]
  },
  {
   "cell_type": "markdown",
   "id": "ecab1367-8422-46b7-83ca-9921caded2c6",
   "metadata": {
    "tags": []
   },
   "source": [
    "# Gonome information"
   ]
  },
  {
   "cell_type": "code",
   "execution_count": 138,
   "id": "bd93bee3-3add-45d1-8752-3dc12957ac34",
   "metadata": {
    "execution": {
     "iopub.execute_input": "2023-12-12T16:30:13.338079Z",
     "iopub.status.busy": "2023-12-12T16:30:13.337694Z",
     "iopub.status.idle": "2023-12-12T16:30:28.060122Z",
     "shell.execute_reply": "2023-12-12T16:30:28.059504Z",
     "shell.execute_reply.started": "2023-12-12T16:30:13.338055Z"
    },
    "tags": []
   },
   "outputs": [],
   "source": [
    "ga_df = pd.read_csv(genome_ann_fn, sep='\\t', comment='#', header=None)\n",
    "ga_df = ga_df[ga_df[2] == 'gene']"
   ]
  },
  {
   "cell_type": "code",
   "execution_count": 140,
   "id": "a88be0a6-4a20-449a-a119-48f9efe803d9",
   "metadata": {
    "execution": {
     "iopub.execute_input": "2023-12-12T16:30:37.825271Z",
     "iopub.status.busy": "2023-12-12T16:30:37.824859Z",
     "iopub.status.idle": "2023-12-12T16:30:37.835108Z",
     "shell.execute_reply": "2023-12-12T16:30:37.834393Z",
     "shell.execute_reply.started": "2023-12-12T16:30:37.825244Z"
    },
    "tags": []
   },
   "outputs": [
    {
     "name": "stdout",
     "output_type": "stream",
     "text": [
      "(62700, 9)\n"
     ]
    },
    {
     "data": {
      "text/html": [
       "<div>\n",
       "<style scoped>\n",
       "    .dataframe tbody tr th:only-of-type {\n",
       "        vertical-align: middle;\n",
       "    }\n",
       "\n",
       "    .dataframe tbody tr th {\n",
       "        vertical-align: top;\n",
       "    }\n",
       "\n",
       "    .dataframe thead th {\n",
       "        text-align: right;\n",
       "    }\n",
       "</style>\n",
       "<table border=\"1\" class=\"dataframe\">\n",
       "  <thead>\n",
       "    <tr style=\"text-align: right;\">\n",
       "      <th></th>\n",
       "      <th>0</th>\n",
       "      <th>1</th>\n",
       "      <th>2</th>\n",
       "      <th>3</th>\n",
       "      <th>4</th>\n",
       "      <th>5</th>\n",
       "      <th>6</th>\n",
       "      <th>7</th>\n",
       "      <th>8</th>\n",
       "    </tr>\n",
       "  </thead>\n",
       "  <tbody>\n",
       "    <tr>\n",
       "      <th>0</th>\n",
       "      <td>chr1</td>\n",
       "      <td>HAVANA</td>\n",
       "      <td>gene</td>\n",
       "      <td>11869</td>\n",
       "      <td>14409</td>\n",
       "      <td>.</td>\n",
       "      <td>+</td>\n",
       "      <td>.</td>\n",
       "      <td>gene_id \"ENSG00000290825.1\"; gene_type \"lncRNA\"; gene_name \"DDX11L2\"; level 2; tag \"overlaps_pseudogene\";</td>\n",
       "    </tr>\n",
       "    <tr>\n",
       "      <th>5</th>\n",
       "      <td>chr1</td>\n",
       "      <td>HAVANA</td>\n",
       "      <td>gene</td>\n",
       "      <td>12010</td>\n",
       "      <td>13670</td>\n",
       "      <td>.</td>\n",
       "      <td>+</td>\n",
       "      <td>.</td>\n",
       "      <td>gene_id \"ENSG00000223972.6\"; gene_type \"transcribed_unprocessed_pseudogene\"; gene_name \"DDX11L1\"; level 2; hgnc_id \"HGNC:37102\"; havana_gene \"OTTHUMG00000000961.2\";</td>\n",
       "    </tr>\n",
       "    <tr>\n",
       "      <th>13</th>\n",
       "      <td>chr1</td>\n",
       "      <td>HAVANA</td>\n",
       "      <td>gene</td>\n",
       "      <td>14404</td>\n",
       "      <td>29570</td>\n",
       "      <td>.</td>\n",
       "      <td>-</td>\n",
       "      <td>.</td>\n",
       "      <td>gene_id \"ENSG00000227232.5\"; gene_type \"unprocessed_pseudogene\"; gene_name \"WASH7P\"; level 2; hgnc_id \"HGNC:38034\"; havana_gene \"OTTHUMG00000000958.1\";</td>\n",
       "    </tr>\n",
       "    <tr>\n",
       "      <th>26</th>\n",
       "      <td>chr1</td>\n",
       "      <td>ENSEMBL</td>\n",
       "      <td>gene</td>\n",
       "      <td>17369</td>\n",
       "      <td>17436</td>\n",
       "      <td>.</td>\n",
       "      <td>-</td>\n",
       "      <td>.</td>\n",
       "      <td>gene_id \"ENSG00000278267.1\"; gene_type \"miRNA\"; gene_name \"MIR6859-1\"; level 3; hgnc_id \"HGNC:50039\";</td>\n",
       "    </tr>\n",
       "    <tr>\n",
       "      <th>29</th>\n",
       "      <td>chr1</td>\n",
       "      <td>HAVANA</td>\n",
       "      <td>gene</td>\n",
       "      <td>29554</td>\n",
       "      <td>31109</td>\n",
       "      <td>.</td>\n",
       "      <td>+</td>\n",
       "      <td>.</td>\n",
       "      <td>gene_id \"ENSG00000243485.5\"; gene_type \"lncRNA\"; gene_name \"MIR1302-2HG\"; level 2; hgnc_id \"HGNC:52482\"; tag \"ncRNA_host\"; havana_gene \"OTTHUMG00000000959.2\";</td>\n",
       "    </tr>\n",
       "  </tbody>\n",
       "</table>\n",
       "</div>"
      ],
      "text/plain": [
       "       0        1     2      3      4  5  6  7  \\\n",
       "0   chr1   HAVANA  gene  11869  14409  .  +  .   \n",
       "5   chr1   HAVANA  gene  12010  13670  .  +  .   \n",
       "13  chr1   HAVANA  gene  14404  29570  .  -  .   \n",
       "26  chr1  ENSEMBL  gene  17369  17436  .  -  .   \n",
       "29  chr1   HAVANA  gene  29554  31109  .  +  .   \n",
       "\n",
       "                                                                                                                                                                       8  \n",
       "0                                                              gene_id \"ENSG00000290825.1\"; gene_type \"lncRNA\"; gene_name \"DDX11L2\"; level 2; tag \"overlaps_pseudogene\";  \n",
       "5   gene_id \"ENSG00000223972.6\"; gene_type \"transcribed_unprocessed_pseudogene\"; gene_name \"DDX11L1\"; level 2; hgnc_id \"HGNC:37102\"; havana_gene \"OTTHUMG00000000961.2\";  \n",
       "13               gene_id \"ENSG00000227232.5\"; gene_type \"unprocessed_pseudogene\"; gene_name \"WASH7P\"; level 2; hgnc_id \"HGNC:38034\"; havana_gene \"OTTHUMG00000000958.1\";  \n",
       "26                                                                 gene_id \"ENSG00000278267.1\"; gene_type \"miRNA\"; gene_name \"MIR6859-1\"; level 3; hgnc_id \"HGNC:50039\";  \n",
       "29        gene_id \"ENSG00000243485.5\"; gene_type \"lncRNA\"; gene_name \"MIR1302-2HG\"; level 2; hgnc_id \"HGNC:52482\"; tag \"ncRNA_host\"; havana_gene \"OTTHUMG00000000959.2\";  "
      ]
     },
     "execution_count": 140,
     "metadata": {},
     "output_type": "execute_result"
    }
   ],
   "source": [
    "print(ga_df.shape)\n",
    "ga_df.head(5)"
   ]
  },
  {
   "cell_type": "code",
   "execution_count": 142,
   "id": "0a9f6223-e400-4ae8-8120-2124d1048f81",
   "metadata": {
    "execution": {
     "iopub.execute_input": "2023-12-12T16:33:41.021045Z",
     "iopub.status.busy": "2023-12-12T16:33:41.020632Z",
     "iopub.status.idle": "2023-12-12T16:33:43.399390Z",
     "shell.execute_reply": "2023-12-12T16:33:43.398676Z",
     "shell.execute_reply.started": "2023-12-12T16:33:41.021018Z"
    },
    "tags": []
   },
   "outputs": [],
   "source": [
    "ga_df['gene_name'] = ga_df[8].str.extract(r'gene_name\\s*\"([^\"]+)\"')"
   ]
  },
  {
   "cell_type": "code",
   "execution_count": 155,
   "id": "f3115879-96bf-4d9b-a556-3034c03aba6b",
   "metadata": {
    "execution": {
     "iopub.execute_input": "2023-12-12T16:47:29.835089Z",
     "iopub.status.busy": "2023-12-12T16:47:29.834699Z",
     "iopub.status.idle": "2023-12-12T16:47:29.839793Z",
     "shell.execute_reply": "2023-12-12T16:47:29.839081Z",
     "shell.execute_reply.started": "2023-12-12T16:47:29.835065Z"
    },
    "tags": []
   },
   "outputs": [],
   "source": [
    "def is_gene_nearby(chr, pos_start, pos_end, thr=1000):\n",
    "    assert isinstance(ch, str) # chr1, ...\n",
    "    t_df = ga_df[(((0 <= ga_df[3] - pos_start) & (ga_df[3] - pos_start <= thr)) | \n",
    "                 ((0 <= pos_end - ga_df[4]) & (pos_end - ga_df[4] <= thr)))]\n",
    "    ret = []\n",
    "    for name in t_df['gene_name'].to_list():\n",
    "        ret.append(name.split('(')[0])\n",
    "    return ret"
   ]
  },
  {
   "cell_type": "code",
   "execution_count": 158,
   "id": "81353840-6420-4708-bc12-bd0e0cd18161",
   "metadata": {
    "execution": {
     "iopub.execute_input": "2023-12-12T16:48:54.020871Z",
     "iopub.status.busy": "2023-12-12T16:48:54.020483Z",
     "iopub.status.idle": "2023-12-12T16:48:54.028895Z",
     "shell.execute_reply": "2023-12-12T16:48:54.028185Z",
     "shell.execute_reply.started": "2023-12-12T16:48:54.020846Z"
    },
    "tags": []
   },
   "outputs": [
    {
     "data": {
      "text/plain": [
       "['DDX11L2',\n",
       " 'DDX11L1',\n",
       " 'ENSG00000283061',\n",
       " 'DDX11L5',\n",
       " 'DDX11L8',\n",
       " 'MT-TH',\n",
       " 'MT-TS2',\n",
       " 'MT-TL2',\n",
       " 'MT-ND5']"
      ]
     },
     "execution_count": 158,
     "metadata": {},
     "output_type": "execute_result"
    }
   ],
   "source": [
    "# chr1\tHAVANA\tgene\t11869\t14409 ... gene_name \"DDX11L2\"\n",
    "is_gene_nearby('chr1', 11865, 12000)"
   ]
  },
  {
   "cell_type": "code",
   "execution_count": 159,
   "id": "6e671419-5980-4833-9f8f-386ecef094a0",
   "metadata": {
    "execution": {
     "iopub.execute_input": "2023-12-12T16:49:11.684084Z",
     "iopub.status.busy": "2023-12-12T16:49:11.683415Z",
     "iopub.status.idle": "2023-12-12T16:49:11.690246Z",
     "shell.execute_reply": "2023-12-12T16:49:11.689714Z",
     "shell.execute_reply.started": "2023-12-12T16:49:11.684059Z"
    },
    "tags": []
   },
   "outputs": [
    {
     "data": {
      "text/plain": [
       "['WASH7P',\n",
       " 'WASHC1',\n",
       " 'ENSG00000260370',\n",
       " 'WASH8P',\n",
       " 'WASH4P',\n",
       " 'LINC02564',\n",
       " 'ENSG00000263305',\n",
       " 'MT-ND6',\n",
       " 'MT-TE',\n",
       " 'MT-CYB',\n",
       " 'MT-TP']"
      ]
     },
     "execution_count": 159,
     "metadata": {},
     "output_type": "execute_result"
    }
   ],
   "source": [
    "is_gene_nearby('chr1', 14000, 17000)"
   ]
  },
  {
   "cell_type": "code",
   "execution_count": 160,
   "id": "0a0d7178-bec3-4537-90f5-c7d2006fbcae",
   "metadata": {
    "execution": {
     "iopub.execute_input": "2023-12-12T16:49:47.948398Z",
     "iopub.status.busy": "2023-12-12T16:49:47.948013Z",
     "iopub.status.idle": "2023-12-12T16:50:12.577720Z",
     "shell.execute_reply": "2023-12-12T16:50:12.577147Z",
     "shell.execute_reply.started": "2023-12-12T16:49:47.948374Z"
    },
    "tags": []
   },
   "outputs": [
    {
     "name": "stderr",
     "output_type": "stream",
     "text": [
      "100%|██████████| 17332/17332 [00:24<00:00, 703.91it/s]\n"
     ]
    }
   ],
   "source": [
    "from tqdm import tqdm\n",
    "tqdm.pandas()\n",
    "multiome_atac_df_quantiled['genes'] = multiome_atac_df_quantiled.progress_apply(\n",
    "    lambda row: is_gene_nearby(row['chr'], row['start'], row['end']), axis=1)\n",
    "# multiome_atac_df_quantiled.write_csv(multiome_atac_quantiled_fn)"
   ]
  },
  {
   "cell_type": "code",
   "execution_count": null,
   "id": "69867580-8fda-40ca-b0c1-d4ee608be0f4",
   "metadata": {
    "tags": []
   },
   "outputs": [],
   "source": [
    "multiome_atac_df_quantiled"
   ]
  },
  {
   "cell_type": "code",
   "execution_count": null,
   "id": "0287d349-b22b-4122-8a65-a9e845466ff0",
   "metadata": {
    "tags": []
   },
   "outputs": [],
   "source": [
    "geneinfo_df = pd.read_csv(geneinfo_fn, sep='\\t')"
   ]
  },
  {
   "cell_type": "code",
   "execution_count": null,
   "id": "ba932709-47c2-45dc-92b7-b05139026b17",
   "metadata": {},
   "outputs": [],
   "source": [
    "gene_sym_id_dict = {row['gene_symbol']: row['gene_id'] for _, row in geneinfo_df.iterrows()}"
   ]
  },
  {
   "cell_type": "code",
   "execution_count": null,
   "id": "6062c734-ed32-4be3-b882-aa294d6a9e77",
   "metadata": {},
   "outputs": [],
   "source": [
    "gene_data = []\n",
    "for _, row in multiome_atac_df_quantiled.iterrows():\n",
    "    for gene in row['genes']:\n",
    "        for tf in row['tfs']:\n",
    "            if gene in gene_sym_id_dict and tf in multiome_atac_df_quantiled:\n",
    "                gene_data.append((gene_sym_id_dict[gene], gene_sym_id_dict[tf]))"
   ]
  },
  {
   "cell_type": "code",
   "execution_count": null,
   "id": "0b609eb9-323f-4118-846c-b684c68f8019",
   "metadata": {},
   "outputs": [],
   "source": [
    "gene_data = pd.DataFrame(gene_data).to_csv('gene_tf_coo.csv')"
   ]
  }
 ],
 "metadata": {
  "kernelspec": {
   "display_name": "saturn (Python 3)",
   "language": "python",
   "name": "python3"
  },
  "language_info": {
   "codemirror_mode": {
    "name": "ipython",
    "version": 3
   },
   "file_extension": ".py",
   "mimetype": "text/x-python",
   "name": "python",
   "nbconvert_exporter": "python",
   "pygments_lexer": "ipython3",
   "version": "3.9.15"
  }
 },
 "nbformat": 4,
 "nbformat_minor": 5
}
